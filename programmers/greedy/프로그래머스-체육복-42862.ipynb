{
 "cells": [
  {
   "cell_type": "code",
   "execution_count": 1,
   "outputs": [],
   "source": [
    "def solution(n, lost, reserve):\n",
    "    set_pure_reserved = set(reserve) - set(lost)\n",
    "    set_pure_lost = set(lost) - set(reserve)\n",
    "    for i in set_pure_reserved:\n",
    "        if i-1 in set_pure_lost:\n",
    "            set_pure_lost.remove(i-1)\n",
    "        elif i+1 in set_pure_lost:\n",
    "            set_pure_lost.remove(i+1)\n",
    "        return n-len(set_pure_lost)\n",
    "\n"
   ],
   "metadata": {
    "collapsed": false,
    "pycharm": {
     "name": "#%%\n",
     "is_executing": false
    }
   }
  },
  {
   "cell_type": "code",
   "execution_count": 2,
   "outputs": [
    {
     "name": "stdout",
     "text": [
      "4\n"
     ],
     "output_type": "stream"
    }
   ],
   "source": [
    "n =5\n",
    "lost = [2, 4]\n",
    "reserve = [1, 3, 5]\n",
    "print (solution(n, lost, reserve))\n"
   ],
   "metadata": {
    "collapsed": false,
    "pycharm": {
     "name": "#%%\n",
     "is_executing": false
    }
   }
  }
 ],
 "metadata": {
  "kernelspec": {
   "display_name": "Python 3",
   "language": "python",
   "name": "python3"
  },
  "language_info": {
   "codemirror_mode": {
    "name": "ipython",
    "version": 2
   },
   "file_extension": ".py",
   "mimetype": "text/x-python",
   "name": "python",
   "nbconvert_exporter": "python",
   "pygments_lexer": "ipython2",
   "version": "2.7.6"
  },
  "pycharm": {
   "stem_cell": {
    "cell_type": "raw",
    "source": [],
    "metadata": {
     "collapsed": false
    }
   }
  }
 },
 "nbformat": 4,
 "nbformat_minor": 0
}